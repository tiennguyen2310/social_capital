{
  "nbformat": 4,
  "nbformat_minor": 0,
  "metadata": {
    "colab": {
      "provenance": []
    },
    "kernelspec": {
      "name": "python3",
      "display_name": "Python 3"
    },
    "language_info": {
      "name": "python"
    }
  },
  "cells": [
    {
      "cell_type": "code",
      "source": [
        "import pandas as pd\n",
        "import statsmodels.api as sm\n",
        "import numpy as np\n",
        "\n",
        "df = pd.read_csv(\"data_soc_imm.csv\", thousands=\",\") # number parsing\n",
        "df[\"_csv_line\"] = df.index + 2   # +2 for header offset\n",
        "\n",
        "cols = [\"soc_cap\", \"imm\", \"pop\", \"gdp_per_capita\", \"u_rate\", \"land_area\", \"pop_den\"]\n",
        "\n",
        "# Parse (str -> num)\n",
        "for col in cols:\n",
        "    df[col] = pd.to_numeric(df[col], errors=\"coerce\")\n",
        "\n",
        "# Replace inf with NaN\n",
        "df = df.replace([np.inf, -np.inf], np.nan)\n",
        "\n",
        "# Check for NaN\n",
        "bad_rows = df[df[cols].isna().any(axis=1)]\n",
        "if not bad_rows.empty:\n",
        "    print(\"Found problematic rows in your CSV (NaN or invalid values):\")\n",
        "    print(bad_rows[[\"_csv_line\"] + cols])\n",
        "    exit()\n",
        "\n",
        "# OLS\n",
        "y = df[\"soc_cap\"]\n",
        "X = df[[\"imm\", \"pop\", \"gdp_per_capita\", \"u_rate\", \"land_area\", \"pop_den\"]]\n",
        "X = sm.add_constant(X)\n",
        "\n",
        "model = sm.OLS(y, X).fit()\n",
        "print(model.summary())\n"
      ],
      "metadata": {
        "colab": {
          "base_uri": "https://localhost:8080/"
        },
        "id": "XB-dx8VLdsKh",
        "outputId": "d858cd0c-1d8a-45ab-f8cd-f91bf5e91ad9"
      },
      "execution_count": 8,
      "outputs": [
        {
          "output_type": "stream",
          "name": "stdout",
          "text": [
            "                            OLS Regression Results                            \n",
            "==============================================================================\n",
            "Dep. Variable:                soc_cap   R-squared:                       0.180\n",
            "Model:                            OLS   Adj. R-squared:                  0.144\n",
            "Method:                 Least Squares   F-statistic:                     5.001\n",
            "Date:                Wed, 01 Oct 2025   Prob (F-statistic):           0.000116\n",
            "Time:                        21:11:47   Log-Likelihood:                -214.72\n",
            "No. Observations:                 144   AIC:                             443.4\n",
            "Df Residuals:                     137   BIC:                             464.2\n",
            "Df Model:                           6                                         \n",
            "Covariance Type:            nonrobust                                         \n",
            "==================================================================================\n",
            "                     coef    std err          t      P>|t|      [0.025      0.975]\n",
            "----------------------------------------------------------------------------------\n",
            "const              0.9363      0.611      1.532      0.128      -0.272       2.145\n",
            "imm             1.149e-05   6.35e-06      1.809      0.073   -1.07e-06     2.4e-05\n",
            "pop            -1.282e-07   3.69e-08     -3.476      0.001   -2.01e-07   -5.53e-08\n",
            "gdp_per_capita -1.342e-05   8.43e-06     -1.591      0.114   -3.01e-05    3.26e-06\n",
            "u_rate            -0.0100      0.069     -0.144      0.886      -0.147       0.127\n",
            "land_area       5.164e-06   2.67e-06      1.931      0.056   -1.23e-07    1.05e-05\n",
            "pop_den            0.0002      0.000      0.458      0.648      -0.001       0.001\n",
            "==============================================================================\n",
            "Omnibus:                        1.663   Durbin-Watson:                   1.982\n",
            "Prob(Omnibus):                  0.435   Jarque-Bera (JB):                1.554\n",
            "Skew:                          -0.253   Prob(JB):                        0.460\n",
            "Kurtosis:                       2.951   Cond. No.                     5.85e+07\n",
            "==============================================================================\n",
            "\n",
            "Notes:\n",
            "[1] Standard Errors assume that the covariance matrix of the errors is correctly specified.\n",
            "[2] The condition number is large, 5.85e+07. This might indicate that there are\n",
            "strong multicollinearity or other numerical problems.\n"
          ]
        }
      ]
    },
    {
      "cell_type": "code",
      "source": [
        "# Simplified Regression\n",
        "y = df[\"soc_cap\"]\n",
        "X = df[[\"imm\", \"pop\", \"u_rate\"]]\n",
        "X = sm.add_constant(X)\n",
        "\n",
        "model = sm.OLS(y, X).fit()\n",
        "print(model.summary())"
      ],
      "metadata": {
        "colab": {
          "base_uri": "https://localhost:8080/"
        },
        "id": "UZR8h2R5fTD3",
        "outputId": "d144e2f0-8bf5-4800-acb2-d72a03372626"
      },
      "execution_count": 9,
      "outputs": [
        {
          "output_type": "stream",
          "name": "stdout",
          "text": [
            "                            OLS Regression Results                            \n",
            "==============================================================================\n",
            "Dep. Variable:                soc_cap   R-squared:                       0.135\n",
            "Model:                            OLS   Adj. R-squared:                  0.117\n",
            "Method:                 Least Squares   F-statistic:                     7.298\n",
            "Date:                Wed, 01 Oct 2025   Prob (F-statistic):           0.000139\n",
            "Time:                        21:11:51   Log-Likelihood:                -218.52\n",
            "No. Observations:                 144   AIC:                             445.0\n",
            "Df Residuals:                     140   BIC:                             456.9\n",
            "Df Model:                           3                                         \n",
            "Covariance Type:            nonrobust                                         \n",
            "==============================================================================\n",
            "                 coef    std err          t      P>|t|      [0.025      0.975]\n",
            "------------------------------------------------------------------------------\n",
            "const          0.3268      0.287      1.139      0.257      -0.241       0.894\n",
            "imm         1.208e-05   6.36e-06      1.899      0.060      -5e-07    2.47e-05\n",
            "pop        -1.234e-07   3.66e-08     -3.367      0.001   -1.96e-07   -5.09e-08\n",
            "u_rate         0.0824      0.050      1.658      0.100      -0.016       0.181\n",
            "==============================================================================\n",
            "Omnibus:                        0.051   Durbin-Watson:                   1.952\n",
            "Prob(Omnibus):                  0.975   Jarque-Bera (JB):                0.159\n",
            "Skew:                          -0.037   Prob(JB):                        0.924\n",
            "Kurtosis:                       2.855   Cond. No.                     2.72e+07\n",
            "==============================================================================\n",
            "\n",
            "Notes:\n",
            "[1] Standard Errors assume that the covariance matrix of the errors is correctly specified.\n",
            "[2] The condition number is large, 2.72e+07. This might indicate that there are\n",
            "strong multicollinearity or other numerical problems.\n"
          ]
        }
      ]
    }
  ]
}